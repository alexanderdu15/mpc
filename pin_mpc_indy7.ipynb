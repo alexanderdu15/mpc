{
 "cells": [
  {
   "cell_type": "code",
   "execution_count": 1,
   "metadata": {},
   "outputs": [],
   "source": [
    "import sys\n",
    "sys.path.append('./src')\n",
    "sys.path.append('./dependencies')\n",
    "\n",
    "from utils import *\n",
    "from sqp import *\n",
    "from osqp_problem import *\n",
    "from osqp_mpc import OsqpMpc\n",
    "import pinocchio as pin\n",
    "from pinocchio.visualize import MeshcatVisualizer\n",
    "import meshcat.geometry as g\n",
    "import meshcat.transformations as tf\n",
    "import numpy as np\n",
    "np.set_printoptions(linewidth=99999999)\n"
   ]
  },
  {
   "cell_type": "code",
   "execution_count": 2,
   "metadata": {},
   "outputs": [],
   "source": [
    "\n",
    "config = {\n",
    "    'N': 32,\n",
    "    'dt': 0.01,\n",
    "    'joint_vel_cost': 1e-3,\n",
    "    'control_cost': 1e-5,\n",
    "    'terminal_cost': 100, # not used\n",
    "    'mu': 10.0,\n",
    "    'sim_dt': 0.001\n",
    "}\n",
    "\n",
    "num_steps = 500\n",
    "\n",
    "urdf_filename = \"dependencies/indy-ros2/indy_description/urdf_files/indy7.urdf\"\n",
    "\n",
    "mpc = OsqpMpc(urdf_filename, config)\n",
    "\n",
    "xstart = np.hstack((np.ones(6), np.zeros(6)))\n",
    "\n",
    "endpoints = np.array([\n",
    "    np.array(solver.eepos(np.zeros(6))), \n",
    "#    np.array(solver.eepos(-0.8 * np.ones(nq)))\n",
    "])\n",
    "print(\"Endpoints: {}\".format(endpoints))\n"
   ]
  },
  {
   "cell_type": "code",
   "execution_count": null,
   "metadata": {},
   "outputs": [],
   "source": [
    "viz = MeshcatVisualizer(mpc.robot.model, mpc.robot.collision_model, mpc.robot.visual_model)\n",
    "viz.initViewer()\n",
    "viz.loadViewerModel()\n",
    "\n",
    "# Visualize goals\n",
    "for i, p in enumerate(endpoints):\n",
    "    viz.viewer[f'point{i}'].set_object(\n",
    "        g.Sphere(0.05), \n",
    "        g.MeshLambertMaterial(color=0xff0000))\n",
    "\n",
    "    T = tf.translation_matrix(np.array(p[:]))\n",
    "    viz.viewer[f'point{i}'].set_transform(T)"
   ]
  },
  {
   "cell_type": "code",
   "execution_count": 20,
   "metadata": {},
   "outputs": [],
   "source": [
    "# Run \n",
    "q_trajectory = mpc.run_mpc(xstart, endpoints, num_steps)"
   ]
  },
  {
   "cell_type": "code",
   "execution_count": 21,
   "metadata": {},
   "outputs": [],
   "source": [
    "print_stats(sqp.get_stats())\n",
    "viz.play(q_trajectory=q_trajectory, dt=0.01)"
   ]
  }
 ],
 "metadata": {
  "kernelspec": {
   "display_name": "Python 3 (ipykernel)",
   "language": "python",
   "name": "python3"
  }
 },
 "nbformat": 4,
 "nbformat_minor": 2
}
